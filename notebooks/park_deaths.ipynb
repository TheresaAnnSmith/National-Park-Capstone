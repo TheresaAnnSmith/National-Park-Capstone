{
 "cells": [
  {
   "cell_type": "code",
   "execution_count": null,
   "id": "562869d3",
   "metadata": {},
   "outputs": [],
   "source": [
    "import pandas as pd\n",
    "import matplotlib.pyplot as plt\n",
    "import seaborn as sns\n",
    "import numpy as np\n",
    "\n",
    "%matplotlib inline"
   ]
  },
  {
   "cell_type": "code",
   "execution_count": null,
   "id": "08af12c9",
   "metadata": {},
   "outputs": [],
   "source": [
    "mortality_data = pd.read_csv('../data/mortality_data.csv')\n",
    "mortality_data"
   ]
  },
  {
   "cell_type": "code",
   "execution_count": null,
   "id": "cf4f2c22",
   "metadata": {},
   "outputs": [],
   "source": [
    "mortality_data.head(20)"
   ]
  },
  {
   "cell_type": "code",
   "execution_count": null,
   "id": "041751d2",
   "metadata": {
    "scrolled": true
   },
   "outputs": [],
   "source": [
    "mortality_data.shape"
   ]
  },
  {
   "cell_type": "code",
   "execution_count": null,
   "id": "74c0d0a8",
   "metadata": {},
   "outputs": [],
   "source": [
    "mortality_data.info()"
   ]
  },
  {
   "cell_type": "code",
   "execution_count": null,
   "id": "630b521e",
   "metadata": {},
   "outputs": [],
   "source": [
    "mortality_data.dtypes"
   ]
  },
  {
   "cell_type": "code",
   "execution_count": null,
   "id": "48f69428",
   "metadata": {},
   "outputs": [],
   "source": [
    "mortality_data['Cause of Death'].value_counts()"
   ]
  },
  {
   "cell_type": "code",
   "execution_count": null,
   "id": "d9b3a740",
   "metadata": {
    "scrolled": true
   },
   "outputs": [],
   "source": [
    "mortality_data['Age Range'].value_counts()"
   ]
  },
  {
   "cell_type": "markdown",
   "id": "ab05771b",
   "metadata": {},
   "source": [
    "### Keeping only rows with the title 'National Park'"
   ]
  },
  {
   "cell_type": "code",
   "execution_count": null,
   "id": "7135b249",
   "metadata": {},
   "outputs": [],
   "source": [
    "for index, row in mortality_data.iterrows():  #dropping everything that is not a National Park \n",
    "    if row['Park Name'].find('National Park') == -1:\n",
    "        mortality_data.drop(index, inplace = True)    "
   ]
  },
  {
   "cell_type": "code",
   "execution_count": null,
   "id": "06dbe8e3",
   "metadata": {},
   "outputs": [],
   "source": [
    "mortality_data = mortality_data.reset_index(drop = True)\n",
    "mortality_data"
   ]
  },
  {
   "cell_type": "code",
   "execution_count": null,
   "id": "b9571170",
   "metadata": {},
   "outputs": [],
   "source": [
    "mortality_data['Park Name'].value_counts()"
   ]
  },
  {
   "cell_type": "code",
   "execution_count": null,
   "id": "5a3de378",
   "metadata": {},
   "outputs": [],
   "source": [
    "mortality_data = mortality_data[mortality_data['Park Name'].str.contains('Wolf Trap')==False]\n",
    "mortality_data   # getting rid of the Wolf Trap theater"
   ]
  },
  {
   "cell_type": "code",
   "execution_count": null,
   "id": "1c2c0970",
   "metadata": {},
   "outputs": [],
   "source": [
    "mortality_data['Cause of Death'].value_counts()"
   ]
  },
  {
   "cell_type": "code",
   "execution_count": null,
   "id": "6f9ef395",
   "metadata": {
    "scrolled": true
   },
   "outputs": [],
   "source": [
    "mortality_data['Park Name'].value_counts()"
   ]
  },
  {
   "cell_type": "code",
   "execution_count": null,
   "id": "f13dc250",
   "metadata": {},
   "outputs": [],
   "source": [
    "mortality_data['Outcome'].value_counts()"
   ]
  },
  {
   "cell_type": "markdown",
   "id": "27de3878",
   "metadata": {},
   "source": [
    "### Need to make sure all the park names are correct, capitalization, etc. Tidy it up! "
   ]
  },
  {
   "cell_type": "code",
   "execution_count": null,
   "id": "8c5c8863",
   "metadata": {},
   "outputs": [],
   "source": [
    "mortality_data['Cause of Death'] = mortality_data['Cause of Death'].str.replace('\\n','')"
   ]
  },
  {
   "cell_type": "code",
   "execution_count": null,
   "id": "8673b813",
   "metadata": {},
   "outputs": [],
   "source": [
    "mortality_data['Cause of Death'].value_counts() #making sure it worked"
   ]
  },
  {
   "cell_type": "code",
   "execution_count": null,
   "id": "0b8f708b",
   "metadata": {},
   "outputs": [],
   "source": [
    "mortality_data['Outcome'] = mortality_data['Outcome'].str.replace('I','i')"
   ]
  },
  {
   "cell_type": "code",
   "execution_count": null,
   "id": "f848ab13",
   "metadata": {},
   "outputs": [],
   "source": [
    "mortality_data['Outcome'].value_counts()"
   ]
  },
  {
   "cell_type": "code",
   "execution_count": null,
   "id": "1e813e1b",
   "metadata": {},
   "outputs": [],
   "source": [
    "mortality_data['Park Name'] = (mortality_data['Park Name'].str.replace('Wrangell - St Elias National Park & Reserve', \n",
    "                                         'Wrangell-St. Elias National Park & Preserve'))"
   ]
  },
  {
   "cell_type": "code",
   "execution_count": null,
   "id": "91693a7a",
   "metadata": {},
   "outputs": [],
   "source": [
    "mortality_data['Park Name'].value_counts()"
   ]
  },
  {
   "cell_type": "code",
   "execution_count": null,
   "id": "f8a835bd",
   "metadata": {},
   "outputs": [],
   "source": [
    "mortality_data['Park Name'] = (mortality_data['Park Name'].str.replace('Black Canyon Of The Gunnison National Park',\n",
    "                                         'Black Canyon of the Gunnison National Park'))\n",
    "mortality_data['Park Name'].value_counts()"
   ]
  },
  {
   "cell_type": "code",
   "execution_count": null,
   "id": "49f5946e",
   "metadata": {},
   "outputs": [],
   "source": [
    "mortality_data['Park Name'] = (mortality_data['Park Name'].str.replace('Sequoia & Kings Canyon National Parks',\n",
    "                                         'Sequoia National Park'))\n",
    "mortality_data['Park Name'].value_counts()"
   ]
  },
  {
   "cell_type": "code",
   "execution_count": null,
   "id": "fe8473b2",
   "metadata": {
    "scrolled": true
   },
   "outputs": [],
   "source": [
    "mortality_data['Injury Category'].value_counts() #unintential #medical #undetermined #intentional"
   ]
  },
  {
   "cell_type": "code",
   "execution_count": null,
   "id": "96d220c3",
   "metadata": {},
   "outputs": [],
   "source": [
    "mortality_data['Injury Category'].value_counts()"
   ]
  },
  {
   "cell_type": "code",
   "execution_count": null,
   "id": "4171f5d7",
   "metadata": {},
   "outputs": [],
   "source": [
    "mortality_data.loc[mortality_data['Injury Category']== \"Intentional\"] #investigating intentional deaths "
   ]
  },
  {
   "cell_type": "code",
   "execution_count": null,
   "id": "d73d10f6",
   "metadata": {},
   "outputs": [],
   "source": [
    "mortality_data['Sex'].value_counts()"
   ]
  },
  {
   "cell_type": "code",
   "execution_count": null,
   "id": "1a0a3f6a",
   "metadata": {},
   "outputs": [],
   "source": [
    "years = mortality_data['Calendar Year'].value_counts().to_frame().reset_index().rename(columns = {'index':'Year','Calendar Year':'Count'})\n",
    "years = years.sort_values(by = 'Year')\n",
    "years"
   ]
  },
  {
   "cell_type": "code",
   "execution_count": null,
   "id": "1a7e97d7",
   "metadata": {},
   "outputs": [],
   "source": [
    "sns.set_style('darkgrid')  # making a bar chart to visualize the distribution \n",
    "sns.barplot(data = years, x = 'Year', y = 'Count')\n",
    "plt.xticks(rotation = 45)\n",
    "plt.title ('Park Deaths by Year')"
   ]
  },
  {
   "cell_type": "code",
   "execution_count": null,
   "id": "634cf181",
   "metadata": {},
   "outputs": [],
   "source": []
  }
 ],
 "metadata": {
  "kernelspec": {
   "display_name": "Python 3 (ipykernel)",
   "language": "python",
   "name": "python3"
  },
  "language_info": {
   "codemirror_mode": {
    "name": "ipython",
    "version": 3
   },
   "file_extension": ".py",
   "mimetype": "text/x-python",
   "name": "python",
   "nbconvert_exporter": "python",
   "pygments_lexer": "ipython3",
   "version": "3.9.13"
  }
 },
 "nbformat": 4,
 "nbformat_minor": 5
}
