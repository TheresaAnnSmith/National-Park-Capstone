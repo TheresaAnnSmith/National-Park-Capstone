{
 "cells": [
  {
   "cell_type": "code",
   "execution_count": null,
   "id": "562869d3",
   "metadata": {},
   "outputs": [],
   "source": [
    "import pandas as pd\n",
    "import matplotlib.pyplot as plt\n",
    "import seaborn as sns\n",
    "import numpy as np\n",
    "\n",
    "%matplotlib inline"
   ]
  },
  {
   "cell_type": "code",
   "execution_count": null,
   "id": "08af12c9",
   "metadata": {},
   "outputs": [],
   "source": [
    "mortality_data = pd.read_csv('../data/mortality_data.csv')\n",
    "mortality_data"
   ]
  },
  {
   "cell_type": "code",
   "execution_count": null,
   "id": "cf4f2c22",
   "metadata": {},
   "outputs": [],
   "source": [
    "mortality_data.head(20)"
   ]
  },
  {
   "cell_type": "code",
   "execution_count": null,
   "id": "041751d2",
   "metadata": {
    "scrolled": true
   },
   "outputs": [],
   "source": [
    "mortality_data.shape"
   ]
  },
  {
   "cell_type": "code",
   "execution_count": null,
   "id": "74c0d0a8",
   "metadata": {},
   "outputs": [],
   "source": [
    "mortality_data.info()"
   ]
  },
  {
   "cell_type": "code",
   "execution_count": null,
   "id": "630b521e",
   "metadata": {},
   "outputs": [],
   "source": [
    "mortality_data.dtypes"
   ]
  },
  {
   "cell_type": "code",
   "execution_count": null,
   "id": "48f69428",
   "metadata": {},
   "outputs": [],
   "source": [
    "mortality_data['Cause of Death'].value_counts()"
   ]
  },
  {
   "cell_type": "code",
   "execution_count": null,
   "id": "d9b3a740",
   "metadata": {},
   "outputs": [],
   "source": [
    "mortality_data['Age Range'].value_counts()"
   ]
  },
  {
   "cell_type": "code",
   "execution_count": null,
   "id": "7135b249",
   "metadata": {},
   "outputs": [],
   "source": []
  }
 ],
 "metadata": {
  "kernelspec": {
   "display_name": "Python 3 (ipykernel)",
   "language": "python",
   "name": "python3"
  },
  "language_info": {
   "codemirror_mode": {
    "name": "ipython",
    "version": 3
   },
   "file_extension": ".py",
   "mimetype": "text/x-python",
   "name": "python",
   "nbconvert_exporter": "python",
   "pygments_lexer": "ipython3",
   "version": "3.9.13"
  }
 },
 "nbformat": 4,
 "nbformat_minor": 5
}
