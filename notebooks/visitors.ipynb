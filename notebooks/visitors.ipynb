{
 "cells": [
  {
   "cell_type": "code",
   "execution_count": null,
   "id": "70b1e582",
   "metadata": {},
   "outputs": [],
   "source": [
    "import pandas as pd\n",
    "import matplotlib.pyplot as plt\n",
    "import seaborn as sns\n",
    "import numpy as np\n",
    "\n",
    "%matplotlib inline"
   ]
  },
  {
   "cell_type": "markdown",
   "id": "7fb1d869",
   "metadata": {},
   "source": [
    "### Bringing in visitors from 1979-1981"
   ]
  },
  {
   "cell_type": "code",
   "execution_count": null,
   "id": "64f2b9dc",
   "metadata": {},
   "outputs": [],
   "source": [
    "visitors_1979_1981 = pd.read_csv('../data/visitors_1979_1981.csv')"
   ]
  },
  {
   "cell_type": "code",
   "execution_count": null,
   "id": "5ba9c629",
   "metadata": {
    "scrolled": false
   },
   "outputs": [],
   "source": [
    "visitors_1979_1981 = visitors_1979_1981.drop(visitors_1979_1981.index[[0,1]])\n",
    "visitors_1979_1981  # dropping indexes"
   ]
  },
  {
   "cell_type": "code",
   "execution_count": null,
   "id": "83f4d9ae",
   "metadata": {
    "scrolled": true
   },
   "outputs": [],
   "source": [
    "visitors_1979_1981 = visitors_1979_1981.reset_index(drop = True)\n",
    "visitors_1979_1981.head(5)"
   ]
  },
  {
   "cell_type": "code",
   "execution_count": null,
   "id": "bd194dbb",
   "metadata": {},
   "outputs": [],
   "source": [
    "visitors_1979_1981.rename(columns = visitors_1979_1981. iloc[0], inplace = True) # making the first row the header names"
   ]
  },
  {
   "cell_type": "code",
   "execution_count": null,
   "id": "2b7f8778",
   "metadata": {
    "scrolled": true
   },
   "outputs": [],
   "source": [
    "visitors_1979_1981 = visitors_1979_1981.drop(visitors_1979_1981.index[[0]])\n",
    "visitors_1979_1981"
   ]
  },
  {
   "cell_type": "code",
   "execution_count": null,
   "id": "d94204a5",
   "metadata": {
    "scrolled": true
   },
   "outputs": [],
   "source": [
    "visitors_1979_1981 = visitors_1979_1981.reset_index(drop = True)\n",
    "visitors_1979_1981.head(5)"
   ]
  },
  {
   "cell_type": "markdown",
   "id": "c2df43cc",
   "metadata": {},
   "source": [
    "### Bringing in visitors from 1982-2001"
   ]
  },
  {
   "cell_type": "code",
   "execution_count": null,
   "id": "94d8a6a0",
   "metadata": {},
   "outputs": [],
   "source": [
    "visitors_1982_2001 = pd.read_csv('../data/visitors_1982_2001.csv')\n",
    "visitors_1982_2001"
   ]
  },
  {
   "cell_type": "markdown",
   "id": "bf2b4f6f",
   "metadata": {},
   "source": [
    "### Bringing in visitors from 2002-2021"
   ]
  },
  {
   "cell_type": "code",
   "execution_count": null,
   "id": "e74ef261",
   "metadata": {},
   "outputs": [],
   "source": [
    "visitors_2002_2021 = pd.read_csv('../data/visitors_2002_2021.csv')\n",
    "visitors_2002_2021"
   ]
  },
  {
   "cell_type": "code",
   "execution_count": null,
   "id": "bbb4237d",
   "metadata": {
    "scrolled": true
   },
   "outputs": [],
   "source": [
    "visitors_2002_2021['2002'] = visitors_2002_2021['2002'].str.replace(',','')\n",
    "visitors_2002_2021"
   ]
  },
  {
   "cell_type": "code",
   "execution_count": null,
   "id": "260d2f92",
   "metadata": {
    "scrolled": true
   },
   "outputs": [],
   "source": [
    "visitors_2002_2021.dtypes"
   ]
  },
  {
   "cell_type": "code",
   "execution_count": null,
   "id": "2eec5999",
   "metadata": {},
   "outputs": [],
   "source": [
    "visitors_2002_2021.shape"
   ]
  },
  {
   "cell_type": "code",
   "execution_count": null,
   "id": "985de3d7",
   "metadata": {
    "scrolled": true
   },
   "outputs": [],
   "source": [
    "#visitors_2002_2021['2002'] = visitors_2002_2021['2002'].astype(int) # can't convert to int due to the nulls"
   ]
  },
  {
   "cell_type": "code",
   "execution_count": null,
   "id": "01957cad",
   "metadata": {},
   "outputs": [],
   "source": [
    "visitors_2002_2021[visitors_2002_2021['2002'].isnull()] # finding the nulls"
   ]
  },
  {
   "cell_type": "code",
   "execution_count": null,
   "id": "f155628a",
   "metadata": {
    "scrolled": true
   },
   "outputs": [],
   "source": [
    "#visitors_2002_2021['2002'].max() #can't do this because of the nulls"
   ]
  },
  {
   "cell_type": "code",
   "execution_count": null,
   "id": "1b2097ed",
   "metadata": {},
   "outputs": [],
   "source": [
    "visitors_2002_2021.isnull().sum()"
   ]
  },
  {
   "cell_type": "code",
   "execution_count": null,
   "id": "abe7cfc9",
   "metadata": {},
   "outputs": [],
   "source": [
    "visitors_2002_2021.info()"
   ]
  },
  {
   "cell_type": "code",
   "execution_count": null,
   "id": "0e7d71d8",
   "metadata": {},
   "outputs": [],
   "source": [
    "visitors_1979_1981.shape"
   ]
  },
  {
   "cell_type": "code",
   "execution_count": null,
   "id": "87a6dc88",
   "metadata": {},
   "outputs": [],
   "source": [
    "visitors_1982_2001.shape"
   ]
  },
  {
   "cell_type": "code",
   "execution_count": null,
   "id": "76dd1fee",
   "metadata": {},
   "outputs": [],
   "source": [
    "visitors_2002_2021.shape"
   ]
  },
  {
   "cell_type": "markdown",
   "id": "86fdcfbd",
   "metadata": {},
   "source": [
    "### Merging all the visitor tables"
   ]
  },
  {
   "cell_type": "code",
   "execution_count": null,
   "id": "a42c7a10",
   "metadata": {
    "scrolled": true
   },
   "outputs": [],
   "source": [
    "visitors_merged = pd.merge(visitors_1979_1981, visitors_1982_2001, how = 'right', on = 'Park Name')"
   ]
  },
  {
   "cell_type": "code",
   "execution_count": null,
   "id": "f4494d08",
   "metadata": {},
   "outputs": [],
   "source": [
    "visitors_merged"
   ]
  },
  {
   "cell_type": "code",
   "execution_count": null,
   "id": "0f766031",
   "metadata": {},
   "outputs": [],
   "source": [
    "all_merged = pd.merge( visitors_merged, visitors_2002_2021, how = 'right', on = 'Park Name')"
   ]
  },
  {
   "cell_type": "code",
   "execution_count": null,
   "id": "fcc96df5",
   "metadata": {},
   "outputs": [],
   "source": [
    "all_merged"
   ]
  },
  {
   "cell_type": "markdown",
   "id": "a4a45ce8",
   "metadata": {},
   "source": [
    "### Need to drop all the colums that don't contain the 'NP' in the Park Name"
   ]
  },
  {
   "cell_type": "code",
   "execution_count": null,
   "id": "fd12df74",
   "metadata": {},
   "outputs": [],
   "source": [
    "all_merged.columns"
   ]
  },
  {
   "cell_type": "code",
   "execution_count": null,
   "id": "1f12137a",
   "metadata": {},
   "outputs": [],
   "source": [
    "all_merged.dtypes"
   ]
  },
  {
   "cell_type": "code",
   "execution_count": null,
   "id": "f05b1f9f",
   "metadata": {
    "scrolled": true
   },
   "outputs": [],
   "source": [
    "all_merged['Park Name'].str.contains('NP').any()"
   ]
  },
  {
   "cell_type": "code",
   "execution_count": null,
   "id": "79adcf81",
   "metadata": {},
   "outputs": [],
   "source": [
    "#finding the amount of times NP occurs in 'Park Name', should be 63 but 72 is close\n",
    "all_merged['Park Name'].str.contains('NP').sum()  "
   ]
  },
  {
   "cell_type": "code",
   "execution_count": null,
   "id": "1238b30b",
   "metadata": {},
   "outputs": [],
   "source": [
    "true_df = all_merged['Park Name'].eq('NP') # eq looks for exact match??"
   ]
  },
  {
   "cell_type": "code",
   "execution_count": null,
   "id": "652d2301",
   "metadata": {},
   "outputs": [],
   "source": [
    "true_df"
   ]
  },
  {
   "cell_type": "code",
   "execution_count": null,
   "id": "87fa0fd4",
   "metadata": {
    "scrolled": true
   },
   "outputs": [],
   "source": [
    "true_df.info()"
   ]
  },
  {
   "cell_type": "code",
   "execution_count": null,
   "id": "b2744fcc",
   "metadata": {},
   "outputs": [],
   "source": [
    "true_df.value_counts()"
   ]
  },
  {
   "cell_type": "code",
   "execution_count": null,
   "id": "2f58d885",
   "metadata": {},
   "outputs": [],
   "source": [
    "all_merged['Park Name'] = all_merged['Park Name'].str.replace('NP','National Park')"
   ]
  },
  {
   "cell_type": "code",
   "execution_count": null,
   "id": "b93fadcd",
   "metadata": {
    "scrolled": true
   },
   "outputs": [],
   "source": [
    "all_merged # the park names now have 'National Park' listed"
   ]
  },
  {
   "cell_type": "code",
   "execution_count": null,
   "id": "84cd23ac",
   "metadata": {},
   "outputs": [],
   "source": [
    "all_merged['Park Name'].str.contains('National Park').sum()  #73 items with strings containing 'National Park'"
   ]
  },
  {
   "cell_type": "markdown",
   "id": "2b30b56d",
   "metadata": {},
   "source": [
    "### Keeping only rows with the title 'National Park'"
   ]
  },
  {
   "cell_type": "code",
   "execution_count": null,
   "id": "e448e1ff",
   "metadata": {},
   "outputs": [],
   "source": [
    "for index, row in all_merged.iterrows():  \n",
    "    if row['Park Name'].find('National Park') == -1:\n",
    "        all_merged.drop(index, inplace = True)    "
   ]
  },
  {
   "cell_type": "code",
   "execution_count": null,
   "id": "de975158",
   "metadata": {},
   "outputs": [],
   "source": [
    "all_merged"
   ]
  },
  {
   "cell_type": "code",
   "execution_count": null,
   "id": "a7fcf9cc",
   "metadata": {},
   "outputs": [],
   "source": [
    "all_merged = all_merged.reset_index(drop = True)"
   ]
  },
  {
   "cell_type": "code",
   "execution_count": null,
   "id": "6b86845f",
   "metadata": {},
   "outputs": [],
   "source": [
    "all_merged"
   ]
  },
  {
   "cell_type": "code",
   "execution_count": null,
   "id": "41348cdc",
   "metadata": {},
   "outputs": [],
   "source": [
    "all_merged.columns"
   ]
  },
  {
   "cell_type": "code",
   "execution_count": null,
   "id": "8a8b9645",
   "metadata": {},
   "outputs": [],
   "source": [
    "all_merged = all_merged.drop(columns = ['Average_x','Average_y','Average'])"
   ]
  },
  {
   "cell_type": "code",
   "execution_count": null,
   "id": "f66efee8",
   "metadata": {},
   "outputs": [],
   "source": [
    "all_merged"
   ]
  },
  {
   "cell_type": "code",
   "execution_count": null,
   "id": "07587aff",
   "metadata": {},
   "outputs": [],
   "source": [
    "all_merged.isnull().sum()"
   ]
  },
  {
   "cell_type": "markdown",
   "id": "63f380dd",
   "metadata": {},
   "source": [
    "### Trying to filter better so I end up with 63 national parks"
   ]
  },
  {
   "cell_type": "code",
   "execution_count": null,
   "id": "7597c479",
   "metadata": {},
   "outputs": [],
   "source": [
    "sum(all_merged['Park Name'].str.contains('ParkRES'))"
   ]
  },
  {
   "cell_type": "code",
   "execution_count": null,
   "id": "d1dc6748",
   "metadata": {},
   "outputs": [],
   "source": [
    "all_merged['Park Name'] = all_merged['Park Name'].str.replace('ParkRES','')\n",
    "all_merged"
   ]
  },
  {
   "cell_type": "code",
   "execution_count": null,
   "id": "50360eaa",
   "metadata": {},
   "outputs": [],
   "source": [
    "for index, row in all_merged.iterrows():  \n",
    "    if row['Park Name'].find('Park') == -1:\n",
    "        all_merged.drop(index, inplace = True)    "
   ]
  },
  {
   "cell_type": "code",
   "execution_count": null,
   "id": "5db91af8",
   "metadata": {},
   "outputs": [],
   "source": [
    "all_merged"
   ]
  },
  {
   "cell_type": "code",
   "execution_count": null,
   "id": "e86eb488",
   "metadata": {},
   "outputs": [],
   "source": [
    "all_merged = all_merged.reset_index(drop = True)\n",
    "all_merged"
   ]
  },
  {
   "cell_type": "code",
   "execution_count": null,
   "id": "32844a19",
   "metadata": {},
   "outputs": [],
   "source": [
    "all_merged = all_merged.drop(all_merged.index[[59]])"
   ]
  },
  {
   "cell_type": "code",
   "execution_count": null,
   "id": "517a14b3",
   "metadata": {},
   "outputs": [],
   "source": [
    "all_merged"
   ]
  },
  {
   "cell_type": "code",
   "execution_count": null,
   "id": "22867738",
   "metadata": {},
   "outputs": [],
   "source": [
    "all_merged['Park Name'] = all_merged['Park Name'].str.replace('PRES','Preserve')\n",
    "all_merged"
   ]
  },
  {
   "cell_type": "code",
   "execution_count": null,
   "id": "b1474837",
   "metadata": {},
   "outputs": [],
   "source": [
    "all_merged.dtypes"
   ]
  },
  {
   "cell_type": "code",
   "execution_count": null,
   "id": "894cb01e",
   "metadata": {},
   "outputs": [],
   "source": [
    "all_merged.info()"
   ]
  }
 ],
 "metadata": {
  "kernelspec": {
   "display_name": "Python 3 (ipykernel)",
   "language": "python",
   "name": "python3"
  },
  "language_info": {
   "codemirror_mode": {
    "name": "ipython",
    "version": 3
   },
   "file_extension": ".py",
   "mimetype": "text/x-python",
   "name": "python",
   "nbconvert_exporter": "python",
   "pygments_lexer": "ipython3",
   "version": "3.9.13"
  }
 },
 "nbformat": 4,
 "nbformat_minor": 5
}
