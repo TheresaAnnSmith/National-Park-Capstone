{
 "cells": [
  {
   "cell_type": "code",
   "execution_count": null,
   "id": "c2adc2fd",
   "metadata": {},
   "outputs": [],
   "source": [
    "import requests\n",
    "from bs4 import BeautifulSoup as BS\n",
    "import pandas as pd"
   ]
  },
  {
   "cell_type": "code",
   "execution_count": null,
   "id": "de325416",
   "metadata": {},
   "outputs": [],
   "source": [
    "URL = 'https://en.wikipedia.org/wiki/List_of_national_parks_of_the_United_States'"
   ]
  },
  {
   "cell_type": "code",
   "execution_count": null,
   "id": "80c9e94a",
   "metadata": {},
   "outputs": [],
   "source": [
    "response =  requests.get(URL)"
   ]
  },
  {
   "cell_type": "code",
   "execution_count": null,
   "id": "aa455312",
   "metadata": {},
   "outputs": [],
   "source": [
    "type(response)"
   ]
  },
  {
   "cell_type": "code",
   "execution_count": null,
   "id": "40ae0297",
   "metadata": {},
   "outputs": [],
   "source": [
    "requests.get('https://en.wikipedia.org/wiki/List_of_national_parks_of_the_United_States')"
   ]
  },
  {
   "cell_type": "code",
   "execution_count": null,
   "id": "1e727745",
   "metadata": {},
   "outputs": [],
   "source": [
    "soup = BS(response.text)"
   ]
  },
  {
   "cell_type": "code",
   "execution_count": null,
   "id": "c30d5e56",
   "metadata": {},
   "outputs": [],
   "source": [
    "soup"
   ]
  },
  {
   "cell_type": "code",
   "execution_count": null,
   "id": "cffd72d5",
   "metadata": {},
   "outputs": [],
   "source": [
    "print(soup.prettify())"
   ]
  },
  {
   "cell_type": "code",
   "execution_count": null,
   "id": "2eb48096",
   "metadata": {},
   "outputs": [],
   "source": [
    "table_html = str(soup.find('table', attrs={'class' : 'wikitable'}))\n",
    "\n",
    "from IPython.core.display import HTML\n",
    "\n",
    "HTML(table_html)"
   ]
  },
  {
   "cell_type": "code",
   "execution_count": null,
   "id": "d0ac083e",
   "metadata": {},
   "outputs": [],
   "source": [
    "parks_list_63 = pd.read_html(str(soup.find('table', attrs={'class' : 'wikitable'})))[0]"
   ]
  },
  {
   "cell_type": "code",
   "execution_count": null,
   "id": "5ccb1d66",
   "metadata": {
    "scrolled": true
   },
   "outputs": [],
   "source": [
    "parks_list_63"
   ]
  },
  {
   "cell_type": "markdown",
   "id": "e4dd5af8",
   "metadata": {},
   "source": [
    "### Cleaning up the columns"
   ]
  },
  {
   "cell_type": "code",
   "execution_count": null,
   "id": "c5b87bef",
   "metadata": {
    "scrolled": true
   },
   "outputs": [],
   "source": [
    "parks_list_63.columns"
   ]
  },
  {
   "cell_type": "code",
   "execution_count": null,
   "id": "c4e8ef35",
   "metadata": {},
   "outputs": [],
   "source": [
    "# dropping and renaming columns"
   ]
  },
  {
   "cell_type": "code",
   "execution_count": null,
   "id": "eed003c7",
   "metadata": {},
   "outputs": [],
   "source": [
    "parks_list_63_dropped = parks_list_63.drop(columns =['Image'])"
   ]
  },
  {
   "cell_type": "code",
   "execution_count": null,
   "id": "8d5476f2",
   "metadata": {},
   "outputs": [],
   "source": [
    "parks_list_63_dropped = parks_list_63_dropped.rename(columns = {'Name':'Park Name','Location':'State','Date established as park[7][12]':'Date Established','Area (2021)[13]':'Park Size','Recreation visitors (2021)[11]': 'Visitors in 2021'})"
   ]
  },
  {
   "cell_type": "code",
   "execution_count": null,
   "id": "22b5f101",
   "metadata": {},
   "outputs": [],
   "source": [
    "parks_list_63_dropped"
   ]
  },
  {
   "cell_type": "code",
   "execution_count": null,
   "id": "3ee52759",
   "metadata": {},
   "outputs": [],
   "source": [
    "parks_list_63_dropped.dtypes"
   ]
  },
  {
   "cell_type": "code",
   "execution_count": null,
   "id": "39fd8358",
   "metadata": {},
   "outputs": [],
   "source": [
    "parks_list_63_dropped.State[0]"
   ]
  },
  {
   "cell_type": "code",
   "execution_count": null,
   "id": "9b09c140",
   "metadata": {},
   "outputs": [],
   "source": []
  }
 ],
 "metadata": {
  "kernelspec": {
   "display_name": "Python 3 (ipykernel)",
   "language": "python",
   "name": "python3"
  },
  "language_info": {
   "codemirror_mode": {
    "name": "ipython",
    "version": 3
   },
   "file_extension": ".py",
   "mimetype": "text/x-python",
   "name": "python",
   "nbconvert_exporter": "python",
   "pygments_lexer": "ipython3",
   "version": "3.9.13"
  }
 },
 "nbformat": 4,
 "nbformat_minor": 5
}
