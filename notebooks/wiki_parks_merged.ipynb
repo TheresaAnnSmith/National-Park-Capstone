{
 "cells": [
  {
   "cell_type": "markdown",
   "id": "936641c9",
   "metadata": {},
   "source": [
    "### Getting a table that has name, date est, size, state, lat and lon"
   ]
  },
  {
   "cell_type": "code",
   "execution_count": null,
   "id": "38b4583c",
   "metadata": {},
   "outputs": [],
   "source": [
    "import pandas as pd"
   ]
  },
  {
   "cell_type": "code",
   "execution_count": null,
   "id": "611881dc",
   "metadata": {
    "scrolled": true
   },
   "outputs": [],
   "source": [
    "wiki = pd.read_csv('../data/wiki_scraped.csv')"
   ]
  },
  {
   "cell_type": "code",
   "execution_count": null,
   "id": "f6f217f8",
   "metadata": {},
   "outputs": [],
   "source": [
    "wiki['Park Name'] = wiki['Park Name'].str.strip()\n",
    "wiki"
   ]
  },
  {
   "cell_type": "code",
   "execution_count": null,
   "id": "1e233c5f",
   "metadata": {},
   "outputs": [],
   "source": [
    "parks_details = pd.read_csv('../data/parks_formatted.csv')\n",
    "parks_details"
   ]
  },
  {
   "cell_type": "code",
   "execution_count": null,
   "id": "0c7a37e5",
   "metadata": {},
   "outputs": [],
   "source": [
    "parks_details['Park Name'] = parks_details['Park Name'].str.strip()"
   ]
  },
  {
   "cell_type": "code",
   "execution_count": null,
   "id": "c084779b",
   "metadata": {},
   "outputs": [],
   "source": [
    "park_details_merged = pd.merge(wiki,parks_details, how ='outer', on ='Park Name')"
   ]
  },
  {
   "cell_type": "code",
   "execution_count": null,
   "id": "6802e37c",
   "metadata": {},
   "outputs": [],
   "source": [
    "park_details_merged"
   ]
  },
  {
   "cell_type": "code",
   "execution_count": null,
   "id": "62d250f4",
   "metadata": {},
   "outputs": [],
   "source": [
    "park_details_merged = park_details_merged.drop(columns = 'Acres')\n",
    "park_details_merged"
   ]
  },
  {
   "cell_type": "code",
   "execution_count": null,
   "id": "e6404b55",
   "metadata": {},
   "outputs": [],
   "source": [
    "park_details_merged.head(20)"
   ]
  },
  {
   "cell_type": "code",
   "execution_count": null,
   "id": "646f3983",
   "metadata": {},
   "outputs": [],
   "source": []
  }
 ],
 "metadata": {
  "kernelspec": {
   "display_name": "Python 3 (ipykernel)",
   "language": "python",
   "name": "python3"
  },
  "language_info": {
   "codemirror_mode": {
    "name": "ipython",
    "version": 3
   },
   "file_extension": ".py",
   "mimetype": "text/x-python",
   "name": "python",
   "nbconvert_exporter": "python",
   "pygments_lexer": "ipython3",
   "version": "3.9.13"
  }
 },
 "nbformat": 4,
 "nbformat_minor": 5
}
