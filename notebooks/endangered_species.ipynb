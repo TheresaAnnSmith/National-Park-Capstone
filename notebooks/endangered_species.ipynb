{
 "cells": [
  {
   "cell_type": "code",
   "execution_count": null,
   "id": "c28b6335",
   "metadata": {},
   "outputs": [],
   "source": [
    "import pandas as pd\n",
    "import matplotlib.pyplot as plt\n",
    "import seaborn as sns\n",
    "import numpy as np\n",
    "\n",
    "%matplotlib inline"
   ]
  },
  {
   "cell_type": "code",
   "execution_count": null,
   "id": "befa3238",
   "metadata": {},
   "outputs": [],
   "source": [
    "endangered_species = pd.read_csv('../data/ESA.csv')\n",
    "endangered_species"
   ]
  },
  {
   "cell_type": "code",
   "execution_count": null,
   "id": "3f09c72e",
   "metadata": {},
   "outputs": [],
   "source": [
    "endangered_species.columns"
   ]
  },
  {
   "cell_type": "code",
   "execution_count": null,
   "id": "37a483f7",
   "metadata": {},
   "outputs": [],
   "source": [
    "endangered_species.shape"
   ]
  },
  {
   "cell_type": "code",
   "execution_count": null,
   "id": "db6544f7",
   "metadata": {},
   "outputs": [],
   "source": [
    "endangered_species.info()"
   ]
  },
  {
   "cell_type": "markdown",
   "id": "d5acb125",
   "metadata": {},
   "source": [
    "### Cleaning up the columns/names"
   ]
  },
  {
   "cell_type": "code",
   "execution_count": null,
   "id": "275cbc45",
   "metadata": {},
   "outputs": [],
   "source": [
    "endangered_species = endangered_species.drop(columns = ['NUMBER','NPCA REGION'])"
   ]
  },
  {
   "cell_type": "code",
   "execution_count": null,
   "id": "5d9bbe58",
   "metadata": {},
   "outputs": [],
   "source": [
    "endangered_species"
   ]
  },
  {
   "cell_type": "code",
   "execution_count": null,
   "id": "c32c1fb7",
   "metadata": {},
   "outputs": [],
   "source": [
    "endangered_species = endangered_species.rename(columns = {'UNIT_NAME':'Park Name','STATE':'State', 'NPS REGION':'NPS Region', 'COMMON NAME':'Common Name','SPECIES':'Species','TAXA':'Taxa','STATUS':'Status'})"
   ]
  },
  {
   "cell_type": "code",
   "execution_count": null,
   "id": "cadd82a4",
   "metadata": {},
   "outputs": [],
   "source": [
    "endangered_species"
   ]
  },
  {
   "cell_type": "markdown",
   "id": "78feaf82",
   "metadata": {},
   "source": [
    "### Keeping only rows with the title 'National Park'"
   ]
  },
  {
   "cell_type": "code",
   "execution_count": null,
   "id": "c4c35552",
   "metadata": {},
   "outputs": [],
   "source": [
    "for index, row in endangered_species.iterrows():  \n",
    "    if row['Park Name'].find('National Park') == -1:\n",
    "        endangered_species.drop(index, inplace = True)"
   ]
  },
  {
   "cell_type": "code",
   "execution_count": null,
   "id": "d0526f93",
   "metadata": {},
   "outputs": [],
   "source": [
    "endangered_species = endangered_species.reset_index(drop = True)\n",
    "endangered_species"
   ]
  },
  {
   "cell_type": "code",
   "execution_count": null,
   "id": "c0cc5290",
   "metadata": {},
   "outputs": [],
   "source": [
    "endangered_species['NPS Region'] = endangered_species['NPS Region'].str.strip() #making sure there are no duplicate regions"
   ]
  },
  {
   "cell_type": "code",
   "execution_count": null,
   "id": "ee92edce",
   "metadata": {},
   "outputs": [],
   "source": [
    "endangered_species.groupby('NPS Region')['State'].value_counts() #looking at the states per region "
   ]
  },
  {
   "cell_type": "code",
   "execution_count": null,
   "id": "44fdb81b",
   "metadata": {},
   "outputs": [],
   "source": [
    "endangered_species['Park Name'].value_counts()"
   ]
  },
  {
   "cell_type": "code",
   "execution_count": null,
   "id": "638eed70",
   "metadata": {},
   "outputs": [],
   "source": [
    "endangered_species['Park Name'] = (endangered_species['Park Name'].str.replace(\"Hawai'i Volcanoes National Park\",\n",
    "                                                                               \"Hawaii Volcanoes National Park\"))\n",
    "endangered_species['Park Name'].value_counts()"
   ]
  },
  {
   "cell_type": "code",
   "execution_count": null,
   "id": "9b30575f",
   "metadata": {},
   "outputs": [],
   "source": []
  }
 ],
 "metadata": {
  "kernelspec": {
   "display_name": "Python 3 (ipykernel)",
   "language": "python",
   "name": "python3"
  },
  "language_info": {
   "codemirror_mode": {
    "name": "ipython",
    "version": 3
   },
   "file_extension": ".py",
   "mimetype": "text/x-python",
   "name": "python",
   "nbconvert_exporter": "python",
   "pygments_lexer": "ipython3",
   "version": "3.9.13"
  }
 },
 "nbformat": 4,
 "nbformat_minor": 5
}
